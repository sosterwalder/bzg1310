{
 "metadata": {
  "name": ""
 },
 "nbformat": 3,
 "nbformat_minor": 0,
 "worksheets": [
  {
   "cells": [
    {
     "cell_type": "code",
     "collapsed": false,
     "input": [
      "%load_ext octavemagic"
     ],
     "language": "python",
     "metadata": {},
     "outputs": [],
     "prompt_number": 1
    },
    {
     "cell_type": "heading",
     "level": 1,
     "metadata": {},
     "source": [
      "Homogeneous rotation"
     ]
    },
    {
     "cell_type": "heading",
     "level": 2,
     "metadata": {},
     "source": [
      "General definitions"
     ]
    },
    {
     "cell_type": "code",
     "collapsed": false,
     "input": [
      "%%octave -o matIdentity -o transAffineSpace -o matTranslationProjective\n",
      "\n",
      "% Identity matrix\n",
      "matIdentity = [\n",
      "    1, 0;\n",
      "    0, 1\n",
      "]\n",
      "\n",
      "% Affine space transformation\n",
      "transAffineSpace = [\n",
      "    -1;\n",
      "    -2\n",
      "]\n",
      "\n",
      "% Projective space matrix\n",
      "matTranslationProjective = [\n",
      "    matIdentity, transAffineSpace;\n",
      "    zeros(1, 2), 1\n",
      "]"
     ],
     "language": "python",
     "metadata": {},
     "outputs": [
      {
       "metadata": {},
       "output_type": "display_data",
       "text": [
        "matIdentity =\n",
        "\n",
        "        1        0\n",
        "        0        1\n",
        "\n",
        "transAffineSpace =\n",
        "\n",
        "       -1\n",
        "       -2\n",
        "\n",
        "matTranslationProjective =\n",
        "\n",
        "        1        0       -1\n",
        "        0        1       -2\n",
        "        0        0        1\n"
       ]
      }
     ],
     "prompt_number": 22
    },
    {
     "cell_type": "heading",
     "level": 2,
     "metadata": {},
     "source": [
      "Rotation"
     ]
    },
    {
     "cell_type": "code",
     "collapsed": false,
     "input": [
      "%%octave -o phi -o matRotation -o matRotationProjective\n",
      "\n",
      "%% Rotation\n",
      "\n",
      "phi = pi / 3\n",
      "\n",
      "% Linear space\n",
      "matRotation = [\n",
      "    cos(phi),   -sin(phi);\n",
      "    sin(phi),    cos(phi)\n",
      "]\n",
      "\n",
      "% Projective space\n",
      "matRotationProjective = [\n",
      "    matRotation,    zeros(2, 1);\n",
      "    zeros(1, 2),    1\n",
      "]"
     ],
     "language": "python",
     "metadata": {},
     "outputs": [
      {
       "metadata": {},
       "output_type": "display_data",
       "text": [
        "phi =  1.0472\n",
        "matRotation =\n",
        "\n",
        "  0.50000  -0.86603\n",
        "  0.86603  0.50000\n",
        "\n",
        "matRotationProjective =\n",
        "\n",
        "  0.50000  -0.86603  0.00000\n",
        "  0.86603  0.50000  0.00000\n",
        "  0.00000  0.00000  1.00000\n"
       ]
      }
     ],
     "prompt_number": 25
    },
    {
     "cell_type": "heading",
     "level": 2,
     "metadata": {},
     "source": [
      "Transformations"
     ]
    },
    {
     "cell_type": "code",
     "collapsed": false,
     "input": [
      "%%octave -o matElementZeroX -o matElementZeroY -o matElementZeroHomogenous -o matElementZeroProjective -o matElementOneX -o matElementOneY\n",
      "\n",
      "%% Define elements\n",
      "matElementZeroX = ones(3, 1) * [3:6]\n",
      "matElementZeroY = [3:5]' * ones(1, 4)\n",
      "\n",
      "% Homogenous coordinates\n",
      "matElementZeroHomogenous = [\n",
      "    reshape(matElementZeroX, 1, 12);\n",
      "    reshape(matElementZeroY, 1, 12);\n",
      "    ones(1, 12)\n",
      "]\n",
      "\n",
      "% Projective transform\n",
      "matElementZeroProjective = matTranslationProjective * matRotationProjective * inv(matTranslationProjective) * matElementZeroHomogenous\n",
      "\n",
      "% Affine coordinates for X and Y\n",
      "matElementOneX = reshape(matElementZeroProjective(1, :), 3, 4)\n",
      "matElementOneY = reshape(matElementZeroProjective(2, :), 3, 4)"
     ],
     "language": "python",
     "metadata": {},
     "outputs": [
      {
       "metadata": {},
       "output_type": "display_data",
       "text": [
        "matElementZeroX =\n",
        "\n",
        "        3        4        5        6\n",
        "        3        4        5        6\n",
        "        3        4        5        6\n",
        "\n",
        "matElementZeroY =\n",
        "\n",
        "        3        3        3        3\n",
        "        4        4        4        4\n",
        "        5        5        5        5\n",
        "\n",
        "matElementZeroHomogenous =\n",
        "\n",
        " Columns 1 through 8:\n",
        "\n",
        "        3        3        3        4        4        4        5        5\n",
        "        3        4        5        3        4        5        3        4\n",
        "        1        1        1        1        1        1        1        1\n",
        "\n",
        " Columns 9 through 12:\n",
        "\n",
        "        5        6        6        6\n",
        "        5        3        4        5\n",
        "        1        1        1        1\n",
        "\n",
        "matElementZeroProjective =\n",
        "\n",
        " Columns 1 through 8:\n",
        "\n",
        "  -3.33013  -4.19615  -5.06218  -2.83013  -3.69615  -4.56218  -2.33013  -3.19615\n",
        "  3.96410  4.46410  4.96410  4.83013  5.33013  5.83013  5.69615  6.19615\n",
        "  1.00000  1.00000  1.00000  1.00000  1.00000  1.00000  1.00000  1.00000\n",
        "\n",
        " Columns 9 through 12:\n",
        "\n",
        "  -4.06218  -1.83013  -2.69615  -3.56218\n",
        "  6.69615  6.56218  7.06218  7.56218\n",
        "  1.00000  1.00000  1.00000  1.00000\n",
        "\n",
        "matElementOneX =\n",
        "\n",
        "  -3.33013  -2.83013  -2.33013  -1.83013\n",
        "  -4.19615  -3.69615  -3.19615  -2.69615\n",
        "  -5.06218  -4.56218  -4.06218  -3.56218\n",
        "\n",
        "matElementOneY =\n",
        "\n",
        "  3.96410  4.83013  5.69615  6.56218\n",
        "  4.46410  5.33013  6.19615  7.06218\n",
        "  4.96410  5.83013  6.69615  7.56218\n"
       ]
      }
     ],
     "prompt_number": 26
    },
    {
     "cell_type": "heading",
     "level": 2,
     "metadata": {},
     "source": [
      "Angles"
     ]
    },
    {
     "cell_type": "code",
     "collapsed": false,
     "input": [
      "%%octave -o theta -o angle -o radius\n",
      "\n",
      "%% Rotation arc\n",
      "theta = atan2(matElementZeroY(1, 1) - transAffineSpace(2), matElementZeroX(1, 1) - transAffineSpace(1))\n",
      "angle = linspace(theta, theta + phi);\n",
      "radius = sqrt((matElementZeroY(1, 1) - transAffineSpace(2))^2 + (matElementZeroX(1, 1) - transAffineSpace(1))^2)\n"
     ],
     "language": "python",
     "metadata": {},
     "outputs": [
      {
       "metadata": {},
       "output_type": "display_data",
       "text": [
        "theta =  0.89606\n",
        "radius =  6.4031"
       ]
      }
     ],
     "prompt_number": 27
    },
    {
     "cell_type": "heading",
     "level": 2,
     "metadata": {},
     "source": [
      "Plotting"
     ]
    },
    {
     "cell_type": "code",
     "collapsed": false,
     "input": [
      "%%octave -f png -s 800,600\n",
      "\n",
      "%% Graphics\n",
      "\n",
      "% Axes\n",
      "plot(transAffineSpace(1), transAffineSpace(2), 'ko', [-5, 6], [0, 0], 'k', [0, 0], [-2, 9], 'k')\n",
      "hold on\n",
      "\n",
      "% Element zero\n",
      "plot(matElementZeroX, matElementZeroY, 'ro', matElementZeroX, matElementZeroY, 'r', matElementZeroX', matElementZeroY', 'r')\n",
      "% Element one\n",
      "plot(matElementOneX, matElementOneY, 'bo', matElementOneX, matElementOneY, 'b', matElementOneX', matElementOneY', 'b')\n",
      "\n",
      "% Transformation line\n",
      "plot(radius * cos(angle) + transAffineSpace(1), radius * sin(angle) + transAffineSpace(2), 'g')\n",
      "\n",
      "% Axis\n",
      "axis('square', [-8, 8, -4, 12])\n",
      "\n",
      "hold off"
     ],
     "language": "python",
     "metadata": {},
     "outputs": [
      {
       "metadata": {},
       "output_type": "display_data",
       "png": "[encoded data removed]"
      }
     ],
     "prompt_number": 29
    },
    {
     "cell_type": "code",
     "collapsed": false,
     "input": [],
     "language": "python",
     "metadata": {},
     "outputs": []
    }
   ],
   "metadata": {}
  }
 ]
}